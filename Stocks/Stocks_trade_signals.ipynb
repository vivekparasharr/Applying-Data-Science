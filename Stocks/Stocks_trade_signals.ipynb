{
  "nbformat": 4,
  "nbformat_minor": 0,
  "metadata": {
    "colab": {
      "provenance": [],
      "authorship_tag": "ABX9TyP2sgSnYhIhterwGCPWHRzx",
      "include_colab_link": true
    },
    "kernelspec": {
      "name": "python3",
      "display_name": "Python 3"
    },
    "language_info": {
      "name": "python"
    }
  },
  "cells": [
    {
      "cell_type": "markdown",
      "metadata": {
        "id": "view-in-github",
        "colab_type": "text"
      },
      "source": [
        "<a href=\"https://colab.research.google.com/github/vivekparasharr/Applying-Data-Science/blob/main/Stocks/Stocks_trade_signals.ipynb\" target=\"_parent\"><img src=\"https://colab.research.google.com/assets/colab-badge.svg\" alt=\"Open In Colab\"/></a>"
      ]
    },
    {
      "cell_type": "code",
      "execution_count": null,
      "metadata": {
        "id": "kAV7AVCa5zlp",
        "outputId": "e0424381-6d99-4054-b803-07b7f33d4e5b",
        "colab": {
          "base_uri": "https://localhost:8080/"
        }
      },
      "outputs": [
        {
          "output_type": "stream",
          "name": "stdout",
          "text": [
            "Looking in indexes: https://pypi.org/simple, https://us-python.pkg.dev/colab-wheels/public/simple/\n",
            "Collecting py-trade-signal\n",
            "  Downloading py_trade_signal-1.0.3-py3-none-any.whl (8.1 kB)\n",
            "Installing collected packages: py-trade-signal\n",
            "Successfully installed py-trade-signal-1.0.3\n"
          ]
        }
      ],
      "source": [
        "pip install py-trade-signal"
      ]
    },
    {
      "cell_type": "code",
      "source": [],
      "metadata": {
        "id": "TTzqgvKU50mA"
      },
      "execution_count": null,
      "outputs": []
    }
  ]
}