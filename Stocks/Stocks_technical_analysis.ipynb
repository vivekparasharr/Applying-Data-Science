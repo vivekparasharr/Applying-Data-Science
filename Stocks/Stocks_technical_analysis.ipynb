{
  "nbformat": 4,
  "nbformat_minor": 0,
  "metadata": {
    "colab": {
      "provenance": [],
      "authorship_tag": "ABX9TyOaPISnC2CG31KBm9HseDu/",
      "include_colab_link": true
    },
    "kernelspec": {
      "name": "python3",
      "display_name": "Python 3"
    },
    "language_info": {
      "name": "python"
    }
  },
  "cells": [
    {
      "cell_type": "markdown",
      "metadata": {
        "id": "view-in-github",
        "colab_type": "text"
      },
      "source": [
        "<a href=\"https://colab.research.google.com/github/vivekparasharr/Applying-Data-Science/blob/main/Stocks/Stocks_technical_analysis.ipynb\" target=\"_parent\"><img src=\"https://colab.research.google.com/assets/colab-badge.svg\" alt=\"Open In Colab\"/></a>"
      ]
    },
    {
      "cell_type": "code",
      "execution_count": null,
      "metadata": {
        "id": "GPxiFNWVGN9-"
      },
      "outputs": [],
      "source": [
        "pip install ta\n",
        "\n",
        "# alternatives\n",
        "# pip install pandas_ta\n",
        "# pip install bta-lib"
      ]
    },
    {
      "cell_type": "code",
      "source": [
        "pip install yahoo-fin"
      ],
      "metadata": {
        "id": "_74Tz-NK3pcq"
      },
      "execution_count": null,
      "outputs": []
    },
    {
      "cell_type": "code",
      "source": [
        "import yahoo_fin.stock_info as si\n",
        "import pandas as pd\n",
        "from ta import add_all_ta_features"
      ],
      "metadata": {
        "id": "SeD-vCUG2mI0"
      },
      "execution_count": null,
      "outputs": []
    },
    {
      "cell_type": "code",
      "source": [
        "data = si.get_data(\"aapl\")\n",
        "data.head(2)"
      ],
      "metadata": {
        "colab": {
          "base_uri": "https://localhost:8080/",
          "height": 112
        },
        "id": "CJioykRE3sqc",
        "outputId": "ebfd4272-06e0-4992-e6ac-06164ef7f822"
      },
      "execution_count": null,
      "outputs": [
        {
          "output_type": "execute_result",
          "data": {
            "text/plain": [
              "                open      high       low     close  adjclose     volume ticker\n",
              "1980-12-12  0.128348  0.128906  0.128348  0.128348  0.099874  469033600   AAPL\n",
              "1980-12-15  0.122210  0.122210  0.121652  0.121652  0.094663  175884800   AAPL"
            ],
            "text/html": [
              "\n",
              "  <div id=\"df-ab7f96ac-8175-4778-bfd3-e5768a99f9eb\">\n",
              "    <div class=\"colab-df-container\">\n",
              "      <div>\n",
              "<style scoped>\n",
              "    .dataframe tbody tr th:only-of-type {\n",
              "        vertical-align: middle;\n",
              "    }\n",
              "\n",
              "    .dataframe tbody tr th {\n",
              "        vertical-align: top;\n",
              "    }\n",
              "\n",
              "    .dataframe thead th {\n",
              "        text-align: right;\n",
              "    }\n",
              "</style>\n",
              "<table border=\"1\" class=\"dataframe\">\n",
              "  <thead>\n",
              "    <tr style=\"text-align: right;\">\n",
              "      <th></th>\n",
              "      <th>open</th>\n",
              "      <th>high</th>\n",
              "      <th>low</th>\n",
              "      <th>close</th>\n",
              "      <th>adjclose</th>\n",
              "      <th>volume</th>\n",
              "      <th>ticker</th>\n",
              "    </tr>\n",
              "  </thead>\n",
              "  <tbody>\n",
              "    <tr>\n",
              "      <th>1980-12-12</th>\n",
              "      <td>0.128348</td>\n",
              "      <td>0.128906</td>\n",
              "      <td>0.128348</td>\n",
              "      <td>0.128348</td>\n",
              "      <td>0.099874</td>\n",
              "      <td>469033600</td>\n",
              "      <td>AAPL</td>\n",
              "    </tr>\n",
              "    <tr>\n",
              "      <th>1980-12-15</th>\n",
              "      <td>0.122210</td>\n",
              "      <td>0.122210</td>\n",
              "      <td>0.121652</td>\n",
              "      <td>0.121652</td>\n",
              "      <td>0.094663</td>\n",
              "      <td>175884800</td>\n",
              "      <td>AAPL</td>\n",
              "    </tr>\n",
              "  </tbody>\n",
              "</table>\n",
              "</div>\n",
              "      <button class=\"colab-df-convert\" onclick=\"convertToInteractive('df-ab7f96ac-8175-4778-bfd3-e5768a99f9eb')\"\n",
              "              title=\"Convert this dataframe to an interactive table.\"\n",
              "              style=\"display:none;\">\n",
              "        \n",
              "  <svg xmlns=\"http://www.w3.org/2000/svg\" height=\"24px\"viewBox=\"0 0 24 24\"\n",
              "       width=\"24px\">\n",
              "    <path d=\"M0 0h24v24H0V0z\" fill=\"none\"/>\n",
              "    <path d=\"M18.56 5.44l.94 2.06.94-2.06 2.06-.94-2.06-.94-.94-2.06-.94 2.06-2.06.94zm-11 1L8.5 8.5l.94-2.06 2.06-.94-2.06-.94L8.5 2.5l-.94 2.06-2.06.94zm10 10l.94 2.06.94-2.06 2.06-.94-2.06-.94-.94-2.06-.94 2.06-2.06.94z\"/><path d=\"M17.41 7.96l-1.37-1.37c-.4-.4-.92-.59-1.43-.59-.52 0-1.04.2-1.43.59L10.3 9.45l-7.72 7.72c-.78.78-.78 2.05 0 2.83L4 21.41c.39.39.9.59 1.41.59.51 0 1.02-.2 1.41-.59l7.78-7.78 2.81-2.81c.8-.78.8-2.07 0-2.86zM5.41 20L4 18.59l7.72-7.72 1.47 1.35L5.41 20z\"/>\n",
              "  </svg>\n",
              "      </button>\n",
              "      \n",
              "  <style>\n",
              "    .colab-df-container {\n",
              "      display:flex;\n",
              "      flex-wrap:wrap;\n",
              "      gap: 12px;\n",
              "    }\n",
              "\n",
              "    .colab-df-convert {\n",
              "      background-color: #E8F0FE;\n",
              "      border: none;\n",
              "      border-radius: 50%;\n",
              "      cursor: pointer;\n",
              "      display: none;\n",
              "      fill: #1967D2;\n",
              "      height: 32px;\n",
              "      padding: 0 0 0 0;\n",
              "      width: 32px;\n",
              "    }\n",
              "\n",
              "    .colab-df-convert:hover {\n",
              "      background-color: #E2EBFA;\n",
              "      box-shadow: 0px 1px 2px rgba(60, 64, 67, 0.3), 0px 1px 3px 1px rgba(60, 64, 67, 0.15);\n",
              "      fill: #174EA6;\n",
              "    }\n",
              "\n",
              "    [theme=dark] .colab-df-convert {\n",
              "      background-color: #3B4455;\n",
              "      fill: #D2E3FC;\n",
              "    }\n",
              "\n",
              "    [theme=dark] .colab-df-convert:hover {\n",
              "      background-color: #434B5C;\n",
              "      box-shadow: 0px 1px 3px 1px rgba(0, 0, 0, 0.15);\n",
              "      filter: drop-shadow(0px 1px 2px rgba(0, 0, 0, 0.3));\n",
              "      fill: #FFFFFF;\n",
              "    }\n",
              "  </style>\n",
              "\n",
              "      <script>\n",
              "        const buttonEl =\n",
              "          document.querySelector('#df-ab7f96ac-8175-4778-bfd3-e5768a99f9eb button.colab-df-convert');\n",
              "        buttonEl.style.display =\n",
              "          google.colab.kernel.accessAllowed ? 'block' : 'none';\n",
              "\n",
              "        async function convertToInteractive(key) {\n",
              "          const element = document.querySelector('#df-ab7f96ac-8175-4778-bfd3-e5768a99f9eb');\n",
              "          const dataTable =\n",
              "            await google.colab.kernel.invokeFunction('convertToInteractive',\n",
              "                                                     [key], {});\n",
              "          if (!dataTable) return;\n",
              "\n",
              "          const docLinkHtml = 'Like what you see? Visit the ' +\n",
              "            '<a target=\"_blank\" href=https://colab.research.google.com/notebooks/data_table.ipynb>data table notebook</a>'\n",
              "            + ' to learn more about interactive tables.';\n",
              "          element.innerHTML = '';\n",
              "          dataTable['output_type'] = 'display_data';\n",
              "          await google.colab.output.renderOutput(dataTable, element);\n",
              "          const docLink = document.createElement('div');\n",
              "          docLink.innerHTML = docLinkHtml;\n",
              "          element.appendChild(docLink);\n",
              "        }\n",
              "      </script>\n",
              "    </div>\n",
              "  </div>\n",
              "  "
            ]
          },
          "metadata": {},
          "execution_count": 16
        }
      ]
    },
    {
      "cell_type": "code",
      "source": [
        "# add technical analysis features\n",
        "data = add_all_ta_features(data, open=\"open\", high=\"high\", low=\"low\", close=\"adjclose\", volume=\"volume\")\n",
        "data.head(2)"
      ],
      "metadata": {
        "colab": {
          "base_uri": "https://localhost:8080/",
          "height": 310
        },
        "id": "JkR-0fo731P5",
        "outputId": "261c1829-e8be-4e1c-94d9-16f0f05e3fed"
      },
      "execution_count": null,
      "outputs": [
        {
          "output_type": "stream",
          "name": "stderr",
          "text": [
            "/usr/local/lib/python3.8/dist-packages/ta/trend.py:780: RuntimeWarning: invalid value encountered in double_scalars\n",
            "  dip[idx] = 100 * (self._dip[idx] / value)\n",
            "/usr/local/lib/python3.8/dist-packages/ta/trend.py:785: RuntimeWarning: invalid value encountered in double_scalars\n",
            "  din[idx] = 100 * (self._din[idx] / value)\n"
          ]
        },
        {
          "output_type": "execute_result",
          "data": {
            "text/plain": [
              "                open      high       low     close  adjclose     volume  \\\n",
              "1980-12-12  0.128348  0.128906  0.128348  0.128348  0.099874  469033600   \n",
              "1980-12-15  0.122210  0.122210  0.121652  0.121652  0.094663  175884800   \n",
              "\n",
              "           ticker    volume_adi  volume_obv  volume_cmf  ...  momentum_ppo  \\\n",
              "1980-12-12   AAPL -4.833739e+10   469033600         NaN  ...           NaN   \n",
              "1980-12-15   AAPL -6.552714e+10   293148800         NaN  ...           NaN   \n",
              "\n",
              "            momentum_ppo_signal  momentum_ppo_hist  momentum_pvo  \\\n",
              "1980-12-12                  NaN                NaN           NaN   \n",
              "1980-12-15                  NaN                NaN           NaN   \n",
              "\n",
              "            momentum_pvo_signal  momentum_pvo_hist  momentum_kama  others_dr  \\\n",
              "1980-12-12                  NaN                NaN            NaN -99.365971   \n",
              "1980-12-15                  NaN                NaN            NaN  -5.217052   \n",
              "\n",
              "            others_dlr  others_cr  \n",
              "1980-12-12         NaN   0.000000  \n",
              "1980-12-15   -5.358066  -5.217052  \n",
              "\n",
              "[2 rows x 93 columns]"
            ],
            "text/html": [
              "\n",
              "  <div id=\"df-40b587d8-4ef6-4494-8374-5a3ef6b7bcd5\">\n",
              "    <div class=\"colab-df-container\">\n",
              "      <div>\n",
              "<style scoped>\n",
              "    .dataframe tbody tr th:only-of-type {\n",
              "        vertical-align: middle;\n",
              "    }\n",
              "\n",
              "    .dataframe tbody tr th {\n",
              "        vertical-align: top;\n",
              "    }\n",
              "\n",
              "    .dataframe thead th {\n",
              "        text-align: right;\n",
              "    }\n",
              "</style>\n",
              "<table border=\"1\" class=\"dataframe\">\n",
              "  <thead>\n",
              "    <tr style=\"text-align: right;\">\n",
              "      <th></th>\n",
              "      <th>open</th>\n",
              "      <th>high</th>\n",
              "      <th>low</th>\n",
              "      <th>close</th>\n",
              "      <th>adjclose</th>\n",
              "      <th>volume</th>\n",
              "      <th>ticker</th>\n",
              "      <th>volume_adi</th>\n",
              "      <th>volume_obv</th>\n",
              "      <th>volume_cmf</th>\n",
              "      <th>...</th>\n",
              "      <th>momentum_ppo</th>\n",
              "      <th>momentum_ppo_signal</th>\n",
              "      <th>momentum_ppo_hist</th>\n",
              "      <th>momentum_pvo</th>\n",
              "      <th>momentum_pvo_signal</th>\n",
              "      <th>momentum_pvo_hist</th>\n",
              "      <th>momentum_kama</th>\n",
              "      <th>others_dr</th>\n",
              "      <th>others_dlr</th>\n",
              "      <th>others_cr</th>\n",
              "    </tr>\n",
              "  </thead>\n",
              "  <tbody>\n",
              "    <tr>\n",
              "      <th>1980-12-12</th>\n",
              "      <td>0.128348</td>\n",
              "      <td>0.128906</td>\n",
              "      <td>0.128348</td>\n",
              "      <td>0.128348</td>\n",
              "      <td>0.099874</td>\n",
              "      <td>469033600</td>\n",
              "      <td>AAPL</td>\n",
              "      <td>-4.833739e+10</td>\n",
              "      <td>469033600</td>\n",
              "      <td>NaN</td>\n",
              "      <td>...</td>\n",
              "      <td>NaN</td>\n",
              "      <td>NaN</td>\n",
              "      <td>NaN</td>\n",
              "      <td>NaN</td>\n",
              "      <td>NaN</td>\n",
              "      <td>NaN</td>\n",
              "      <td>NaN</td>\n",
              "      <td>-99.365971</td>\n",
              "      <td>NaN</td>\n",
              "      <td>0.000000</td>\n",
              "    </tr>\n",
              "    <tr>\n",
              "      <th>1980-12-15</th>\n",
              "      <td>0.122210</td>\n",
              "      <td>0.122210</td>\n",
              "      <td>0.121652</td>\n",
              "      <td>0.121652</td>\n",
              "      <td>0.094663</td>\n",
              "      <td>175884800</td>\n",
              "      <td>AAPL</td>\n",
              "      <td>-6.552714e+10</td>\n",
              "      <td>293148800</td>\n",
              "      <td>NaN</td>\n",
              "      <td>...</td>\n",
              "      <td>NaN</td>\n",
              "      <td>NaN</td>\n",
              "      <td>NaN</td>\n",
              "      <td>NaN</td>\n",
              "      <td>NaN</td>\n",
              "      <td>NaN</td>\n",
              "      <td>NaN</td>\n",
              "      <td>-5.217052</td>\n",
              "      <td>-5.358066</td>\n",
              "      <td>-5.217052</td>\n",
              "    </tr>\n",
              "  </tbody>\n",
              "</table>\n",
              "<p>2 rows × 93 columns</p>\n",
              "</div>\n",
              "      <button class=\"colab-df-convert\" onclick=\"convertToInteractive('df-40b587d8-4ef6-4494-8374-5a3ef6b7bcd5')\"\n",
              "              title=\"Convert this dataframe to an interactive table.\"\n",
              "              style=\"display:none;\">\n",
              "        \n",
              "  <svg xmlns=\"http://www.w3.org/2000/svg\" height=\"24px\"viewBox=\"0 0 24 24\"\n",
              "       width=\"24px\">\n",
              "    <path d=\"M0 0h24v24H0V0z\" fill=\"none\"/>\n",
              "    <path d=\"M18.56 5.44l.94 2.06.94-2.06 2.06-.94-2.06-.94-.94-2.06-.94 2.06-2.06.94zm-11 1L8.5 8.5l.94-2.06 2.06-.94-2.06-.94L8.5 2.5l-.94 2.06-2.06.94zm10 10l.94 2.06.94-2.06 2.06-.94-2.06-.94-.94-2.06-.94 2.06-2.06.94z\"/><path d=\"M17.41 7.96l-1.37-1.37c-.4-.4-.92-.59-1.43-.59-.52 0-1.04.2-1.43.59L10.3 9.45l-7.72 7.72c-.78.78-.78 2.05 0 2.83L4 21.41c.39.39.9.59 1.41.59.51 0 1.02-.2 1.41-.59l7.78-7.78 2.81-2.81c.8-.78.8-2.07 0-2.86zM5.41 20L4 18.59l7.72-7.72 1.47 1.35L5.41 20z\"/>\n",
              "  </svg>\n",
              "      </button>\n",
              "      \n",
              "  <style>\n",
              "    .colab-df-container {\n",
              "      display:flex;\n",
              "      flex-wrap:wrap;\n",
              "      gap: 12px;\n",
              "    }\n",
              "\n",
              "    .colab-df-convert {\n",
              "      background-color: #E8F0FE;\n",
              "      border: none;\n",
              "      border-radius: 50%;\n",
              "      cursor: pointer;\n",
              "      display: none;\n",
              "      fill: #1967D2;\n",
              "      height: 32px;\n",
              "      padding: 0 0 0 0;\n",
              "      width: 32px;\n",
              "    }\n",
              "\n",
              "    .colab-df-convert:hover {\n",
              "      background-color: #E2EBFA;\n",
              "      box-shadow: 0px 1px 2px rgba(60, 64, 67, 0.3), 0px 1px 3px 1px rgba(60, 64, 67, 0.15);\n",
              "      fill: #174EA6;\n",
              "    }\n",
              "\n",
              "    [theme=dark] .colab-df-convert {\n",
              "      background-color: #3B4455;\n",
              "      fill: #D2E3FC;\n",
              "    }\n",
              "\n",
              "    [theme=dark] .colab-df-convert:hover {\n",
              "      background-color: #434B5C;\n",
              "      box-shadow: 0px 1px 3px 1px rgba(0, 0, 0, 0.15);\n",
              "      filter: drop-shadow(0px 1px 2px rgba(0, 0, 0, 0.3));\n",
              "      fill: #FFFFFF;\n",
              "    }\n",
              "  </style>\n",
              "\n",
              "      <script>\n",
              "        const buttonEl =\n",
              "          document.querySelector('#df-40b587d8-4ef6-4494-8374-5a3ef6b7bcd5 button.colab-df-convert');\n",
              "        buttonEl.style.display =\n",
              "          google.colab.kernel.accessAllowed ? 'block' : 'none';\n",
              "\n",
              "        async function convertToInteractive(key) {\n",
              "          const element = document.querySelector('#df-40b587d8-4ef6-4494-8374-5a3ef6b7bcd5');\n",
              "          const dataTable =\n",
              "            await google.colab.kernel.invokeFunction('convertToInteractive',\n",
              "                                                     [key], {});\n",
              "          if (!dataTable) return;\n",
              "\n",
              "          const docLinkHtml = 'Like what you see? Visit the ' +\n",
              "            '<a target=\"_blank\" href=https://colab.research.google.com/notebooks/data_table.ipynb>data table notebook</a>'\n",
              "            + ' to learn more about interactive tables.';\n",
              "          element.innerHTML = '';\n",
              "          dataTable['output_type'] = 'display_data';\n",
              "          await google.colab.output.renderOutput(dataTable, element);\n",
              "          const docLink = document.createElement('div');\n",
              "          docLink.innerHTML = docLinkHtml;\n",
              "          element.appendChild(docLink);\n",
              "        }\n",
              "      </script>\n",
              "    </div>\n",
              "  </div>\n",
              "  "
            ]
          },
          "metadata": {},
          "execution_count": 17
        }
      ]
    },
    {
      "cell_type": "code",
      "source": [
        "data.info()"
      ],
      "metadata": {
        "colab": {
          "base_uri": "https://localhost:8080/"
        },
        "id": "4OKpel9V4Bi0",
        "outputId": "95f72db7-ab11-465a-99cc-fe4f392954b5"
      },
      "execution_count": null,
      "outputs": [
        {
          "output_type": "stream",
          "name": "stdout",
          "text": [
            "<class 'pandas.core.frame.DataFrame'>\n",
            "DatetimeIndex: 10598 entries, 1980-12-12 to 2022-12-22\n",
            "Data columns (total 93 columns):\n",
            " #   Column                     Non-Null Count  Dtype  \n",
            "---  ------                     --------------  -----  \n",
            " 0   open                       10598 non-null  float64\n",
            " 1   high                       10598 non-null  float64\n",
            " 2   low                        10598 non-null  float64\n",
            " 3   close                      10598 non-null  float64\n",
            " 4   adjclose                   10598 non-null  float64\n",
            " 5   volume                     10598 non-null  int64  \n",
            " 6   ticker                     10598 non-null  object \n",
            " 7   volume_adi                 10597 non-null  float64\n",
            " 8   volume_obv                 10598 non-null  int64  \n",
            " 9   volume_cmf                 10337 non-null  float64\n",
            " 10  volume_fi                  10585 non-null  float64\n",
            " 11  volume_em                  10596 non-null  float64\n",
            " 12  volume_sma_em              10570 non-null  float64\n",
            " 13  volume_vpt                 10598 non-null  float64\n",
            " 14  volume_vwap                10585 non-null  float64\n",
            " 15  volume_mfi                 10585 non-null  float64\n",
            " 16  volume_nvi                 10598 non-null  float64\n",
            " 17  volatility_bbm             10579 non-null  float64\n",
            " 18  volatility_bbh             10579 non-null  float64\n",
            " 19  volatility_bbl             10579 non-null  float64\n",
            " 20  volatility_bbw             10579 non-null  float64\n",
            " 21  volatility_bbp             10579 non-null  float64\n",
            " 22  volatility_bbhi            10598 non-null  float64\n",
            " 23  volatility_bbli            10598 non-null  float64\n",
            " 24  volatility_kcc             10589 non-null  float64\n",
            " 25  volatility_kch             10598 non-null  float64\n",
            " 26  volatility_kcl             10598 non-null  float64\n",
            " 27  volatility_kcw             10589 non-null  float64\n",
            " 28  volatility_kcp             10598 non-null  float64\n",
            " 29  volatility_kchi            10598 non-null  float64\n",
            " 30  volatility_kcli            10598 non-null  float64\n",
            " 31  volatility_dcl             10579 non-null  float64\n",
            " 32  volatility_dch             10579 non-null  float64\n",
            " 33  volatility_dcm             10579 non-null  float64\n",
            " 34  volatility_dcw             10579 non-null  float64\n",
            " 35  volatility_dcp             10579 non-null  float64\n",
            " 36  volatility_atr             10598 non-null  float64\n",
            " 37  volatility_ui              10585 non-null  float64\n",
            " 38  trend_macd                 10573 non-null  float64\n",
            " 39  trend_macd_signal          10565 non-null  float64\n",
            " 40  trend_macd_diff            10565 non-null  float64\n",
            " 41  trend_sma_fast             10587 non-null  float64\n",
            " 42  trend_sma_slow             10573 non-null  float64\n",
            " 43  trend_ema_fast             10587 non-null  float64\n",
            " 44  trend_ema_slow             10573 non-null  float64\n",
            " 45  trend_vortex_ind_pos       10584 non-null  float64\n",
            " 46  trend_vortex_ind_neg       10584 non-null  float64\n",
            " 47  trend_vortex_ind_diff      10584 non-null  float64\n",
            " 48  trend_trix                 10555 non-null  float64\n",
            " 49  trend_mass_index           10558 non-null  float64\n",
            " 50  trend_dpo                  10579 non-null  float64\n",
            " 51  trend_kst                  10584 non-null  float64\n",
            " 52  trend_kst_sig              10584 non-null  float64\n",
            " 53  trend_kst_diff             10584 non-null  float64\n",
            " 54  trend_ichimoku_conv        10590 non-null  float64\n",
            " 55  trend_ichimoku_base        10573 non-null  float64\n",
            " 56  trend_ichimoku_a           10573 non-null  float64\n",
            " 57  trend_ichimoku_b           10598 non-null  float64\n",
            " 58  trend_stc                  10527 non-null  float64\n",
            " 59  trend_adx                  10598 non-null  float64\n",
            " 60  trend_adx_pos              10598 non-null  float64\n",
            " 61  trend_adx_neg              10598 non-null  float64\n",
            " 62  trend_cci                  10579 non-null  float64\n",
            " 63  trend_visual_ichimoku_a    10573 non-null  float64\n",
            " 64  trend_visual_ichimoku_b    10598 non-null  float64\n",
            " 65  trend_aroon_up             10574 non-null  float64\n",
            " 66  trend_aroon_down           10574 non-null  float64\n",
            " 67  trend_aroon_ind            10574 non-null  float64\n",
            " 68  trend_psar_up              5692 non-null   float64\n",
            " 69  trend_psar_down            4904 non-null   float64\n",
            " 70  trend_psar_up_indicator    10598 non-null  float64\n",
            " 71  trend_psar_down_indicator  10598 non-null  float64\n",
            " 72  momentum_rsi               10585 non-null  float64\n",
            " 73  momentum_stoch_rsi         10572 non-null  float64\n",
            " 74  momentum_stoch_rsi_k       10570 non-null  float64\n",
            " 75  momentum_stoch_rsi_d       10568 non-null  float64\n",
            " 76  momentum_tsi               10561 non-null  float64\n",
            " 77  momentum_uo                10570 non-null  float64\n",
            " 78  momentum_stoch             10585 non-null  float64\n",
            " 79  momentum_stoch_signal      10583 non-null  float64\n",
            " 80  momentum_wr                10585 non-null  float64\n",
            " 81  momentum_ao                10565 non-null  float64\n",
            " 82  momentum_roc               10586 non-null  float64\n",
            " 83  momentum_ppo               10573 non-null  float64\n",
            " 84  momentum_ppo_signal        10565 non-null  float64\n",
            " 85  momentum_ppo_hist          10565 non-null  float64\n",
            " 86  momentum_pvo               10573 non-null  float64\n",
            " 87  momentum_pvo_signal        10565 non-null  float64\n",
            " 88  momentum_pvo_hist          10565 non-null  float64\n",
            " 89  momentum_kama              10589 non-null  float64\n",
            " 90  others_dr                  10598 non-null  float64\n",
            " 91  others_dlr                 10597 non-null  float64\n",
            " 92  others_cr                  10598 non-null  float64\n",
            "dtypes: float64(90), int64(2), object(1)\n",
            "memory usage: 7.6+ MB\n"
          ]
        }
      ]
    },
    {
      "cell_type": "code",
      "source": [
        "data.momentum_rsi.tail()"
      ],
      "metadata": {
        "colab": {
          "base_uri": "https://localhost:8080/"
        },
        "id": "VRAeXX8K4UcP",
        "outputId": "e5ad3a71-3806-4e1e-f336-c76d59278043"
      },
      "execution_count": null,
      "outputs": [
        {
          "output_type": "execute_result",
          "data": {
            "text/plain": [
              "2022-12-16    35.856412\n",
              "2022-12-19    33.722465\n",
              "2022-12-20    33.651923\n",
              "2022-12-21    39.759404\n",
              "2022-12-22    34.717161\n",
              "Name: momentum_rsi, dtype: float64"
            ]
          },
          "metadata": {},
          "execution_count": 20
        }
      ]
    },
    {
      "cell_type": "code",
      "source": [
        "# calculate individual indicators rather than pulling them all in at once\n",
        "# for example, if you want to calculate the 21-day RSI, rather than the default 14-day calculation, you can use the momentum module\n",
        "from ta.momentum import RSIIndicator\n",
        "rsi_21 = RSIIndicator(close = data.adjclose, window = 21)\n",
        "data[\"rsi_21\"] = rsi_21.rsi()\n",
        "data[\"rsi_21\"]"
      ],
      "metadata": {
        "colab": {
          "base_uri": "https://localhost:8080/"
        },
        "id": "4Fk1COT34cvt",
        "outputId": "d7cbad18-e2d9-4c4b-be63-49ef87586c4f"
      },
      "execution_count": null,
      "outputs": [
        {
          "output_type": "execute_result",
          "data": {
            "text/plain": [
              "1980-12-12          NaN\n",
              "1980-12-15          NaN\n",
              "1980-12-16          NaN\n",
              "1980-12-17          NaN\n",
              "1980-12-18          NaN\n",
              "                ...    \n",
              "2022-12-16    40.009965\n",
              "2022-12-19    38.462365\n",
              "2022-12-20    38.411341\n",
              "2022-12-21    42.044492\n",
              "2022-12-22    38.546506\n",
              "Name: rsi_21, Length: 10598, dtype: float64"
            ]
          },
          "metadata": {},
          "execution_count": 21
        }
      ]
    },
    {
      "cell_type": "code",
      "source": [
        "# use the trend module to calculate MACD\n",
        "from ta.trend import macd\n",
        "data[\"macd\"] = macd(data.adjclose, window_slow = 26, window_fast = 12)\n",
        "data[\"macd\"]"
      ],
      "metadata": {
        "colab": {
          "base_uri": "https://localhost:8080/"
        },
        "id": "RWwaLFHd43Zn",
        "outputId": "51b8148a-4c96-4247-c54e-da8a53612d83"
      },
      "execution_count": null,
      "outputs": [
        {
          "output_type": "execute_result",
          "data": {
            "text/plain": [
              "1980-12-12         NaN\n",
              "1980-12-15         NaN\n",
              "1980-12-16         NaN\n",
              "1980-12-17         NaN\n",
              "1980-12-18         NaN\n",
              "                ...   \n",
              "2022-12-16   -2.026614\n",
              "2022-12-19   -2.641639\n",
              "2022-12-20   -3.098975\n",
              "2022-12-21   -3.170690\n",
              "2022-12-22   -3.558890\n",
              "Name: macd, Length: 10598, dtype: float64"
            ]
          },
          "metadata": {},
          "execution_count": 23
        }
      ]
    },
    {
      "cell_type": "code",
      "source": [],
      "metadata": {
        "id": "1xkMP9cM5DWq"
      },
      "execution_count": null,
      "outputs": []
    }
  ]
}